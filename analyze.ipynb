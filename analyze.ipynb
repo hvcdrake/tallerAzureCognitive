{
 "nbformat": 4,
 "nbformat_minor": 2,
 "metadata": {
  "language_info": {
   "name": "python",
   "codemirror_mode": {
    "name": "ipython",
    "version": 3
   },
   "version": "3.6.9-final"
  },
  "orig_nbformat": 2,
  "file_extension": ".py",
  "mimetype": "text/x-python",
  "name": "python",
  "npconvert_exporter": "python",
  "pygments_lexer": "ipython3",
  "version": 3,
  "kernelspec": {
   "name": "python3",
   "display_name": "Python 3"
  }
 },
 "cells": [
  {
   "cell_type": "code",
   "execution_count": 1,
   "metadata": {},
   "outputs": [],
   "source": [
    "import cv2\n",
    "import json\n",
    "import requests\n",
    "from os import scandir, getcwd, rename"
   ]
  },
  {
   "cell_type": "code",
   "execution_count": 2,
   "metadata": {},
   "outputs": [
    {
     "name": "stdout",
     "output_type": "stream",
     "text": "Terminó. 3\n"
    }
   ],
   "source": [
    "from os import scandir, getcwd, rename\n",
    "# Obtener archivos de una ruta\n",
    "ruta = 'imgAnalyze/'\n",
    "files = [ruta + '/' + arch.name for arch in scandir(ruta) if arch.is_file()]\n",
    "# files_lista = []\n",
    "# for i in files\n",
    "# files_lista.append(ruta+'\\\\'+i)\n",
    "\n",
    "print(\"Terminó. {}\".format(len(files)))"
   ]
  },
  {
   "cell_type": "code",
   "execution_count": 3,
   "metadata": {},
   "outputs": [
    {
     "name": "stdout",
     "output_type": "stream",
     "text": "Reading imgAnalyze//abbey.png\n{\"description\":{\"tags\":[\"outdoor\",\"person\",\"road\",\"woman\",\"sidewalk\",\"street\",\"walking\",\"people\",\"man\",\"city\",\"suit\",\"standing\",\"holding\",\"group\",\"talking\",\"busy\",\"young\",\"wearing\",\"stop\",\"parked\",\"parking\",\"traffic\",\"bus\"],\"captions\":[{\"text\":\"a group of people walking down the street\",\"confidence\":0.96979892685936964}]},\"objects\":[{\"rectangle\":{\"x\":54,\"y\":460,\"w\":57,\"h\":37},\"object\":\"footwear\",\"confidence\":0.51},{\"rectangle\":{\"x\":496,\"y\":475,\"w\":53,\"h\":30},\"object\":\"footwear\",\"confidence\":0.5},{\"rectangle\":{\"x\":171,\"y\":87,\"w\":154,\"h\":126},\"object\":\"Van\",\"confidence\":0.672,\"parent\":{\"object\":\"car\",\"confidence\":0.824,\"parent\":{\"object\":\"Land vehicle\",\"confidence\":0.857,\"parent\":{\"object\":\"Vehicle\",\"confidence\":0.857}}}},{\"rectangle\":{\"x\":58,\"y\":106,\"w\":191,\"h\":392},\"object\":\"person\",\"confidence\":0.822},{\"rectangle\":{\"x\":298,\"y\":106,\"w\":177,\"h\":381},\"object\":\"person\",\"confidence\":0.784},{\"rectangle\":{\"x\":498,\"y\":120,\"w\":211,\"h\":384},\"object\":\"person\",\"confidence\":0.656},{\"rectangle\":{\"x\":731,\"y\":116,\"w\":204,\"h\":401},\"object\":\"person\",\"confidence\":0.795},{\"rectangle\":{\"x\":61,\"y\":304,\"w\":183,\"h\":180},\"object\":\"Jeans\",\"confidence\":0.513,\"parent\":{\"object\":\"Trousers\",\"confidence\":0.513}},{\"rectangle\":{\"x\":301,\"y\":327,\"w\":173,\"h\":144},\"object\":\"Jeans\",\"confidence\":0.582,\"parent\":{\"object\":\"Trousers\",\"confidence\":0.582}}],\"requestId\":\"8bb74b14-c4fd-480a-9cba-9fe6cbac6467\",\"metadata\":{\"width\":1032,\"height\":601,\"format\":\"Png\"}}\nReading imgAnalyze//rand.png\n{\"description\":{\"tags\":[\"outdoor\",\"building\",\"person\",\"man\",\"fence\",\"dog\",\"walking\",\"standing\",\"sidewalk\",\"leash\",\"cat\",\"brown\",\"street\",\"front\",\"small\",\"white\",\"holding\",\"woman\",\"court\",\"people\",\"city\",\"group\",\"suitcase\",\"luggage\",\"bus\"],\"captions\":[{\"text\":\"a man and a dog walking on a sidewalk\",\"confidence\":0.92462570350765083}]},\"objects\":[{\"rectangle\":{\"x\":55,\"y\":468,\"w\":172,\"h\":227},\"object\":\"cat\",\"confidence\":0.83,\"parent\":{\"object\":\"mammal\",\"confidence\":0.842,\"parent\":{\"object\":\"animal\",\"confidence\":0.843}}},{\"rectangle\":{\"x\":197,\"y\":487,\"w\":162,\"h\":212},\"object\":\"terrier\",\"confidence\":0.51,\"parent\":{\"object\":\"dog\",\"confidence\":0.697,\"parent\":{\"object\":\"mammal\",\"confidence\":0.872,\"parent\":{\"object\":\"animal\",\"confidence\":0.873}}}},{\"rectangle\":{\"x\":7,\"y\":9,\"w\":187,\"h\":538},\"object\":\"person\",\"confidence\":0.656},{\"rectangle\":{\"x\":138,\"y\":20,\"w\":248,\"h\":520},\"object\":\"person\",\"confidence\":0.617}],\"requestId\":\"46437e81-f913-4650-840f-443d475aa9f3\",\"metadata\":{\"width\":500,\"height\":702,\"format\":\"Png\"}}\nReading imgAnalyze//termi.jpg\n{\"description\":{\"tags\":[\"road\",\"motorcycle\",\"outdoor\",\"riding\",\"man\",\"child\",\"small\",\"little\",\"street\",\"boy\",\"young\",\"people\",\"woman\",\"standing\",\"city\",\"car\",\"parked\"],\"captions\":[{\"text\":\"a man riding on the back of a motorcycle\",\"confidence\":0.81817321578192459}]},\"objects\":[{\"rectangle\":{\"x\":255,\"y\":77,\"w\":132,\"h\":179},\"object\":\"person\",\"confidence\":0.697},{\"rectangle\":{\"x\":21,\"y\":203,\"w\":85,\"h\":107},\"object\":\"Tire\",\"confidence\":0.678,\"parent\":{\"object\":\"Wheel\",\"confidence\":0.685}},{\"rectangle\":{\"x\":199,\"y\":211,\"w\":81,\"h\":118},\"object\":\"Tire\",\"confidence\":0.746,\"parent\":{\"object\":\"Wheel\",\"confidence\":0.787}},{\"rectangle\":{\"x\":327,\"y\":220,\"w\":58,\"h\":95},\"object\":\"Wheel\",\"confidence\":0.733},{\"rectangle\":{\"x\":77,\"y\":54,\"w\":191,\"h\":207},\"object\":\"person\",\"confidence\":0.732},{\"rectangle\":{\"x\":13,\"y\":99,\"w\":266,\"h\":231},\"object\":\"motorcycle\",\"confidence\":0.911,\"parent\":{\"object\":\"cycle\",\"confidence\":0.913,\"parent\":{\"object\":\"Land vehicle\",\"confidence\":0.916,\"parent\":{\"object\":\"Vehicle\",\"confidence\":0.916}}}},{\"rectangle\":{\"x\":197,\"y\":130,\"w\":197,\"h\":196},\"object\":\"motorcycle\",\"confidence\":0.848,\"parent\":{\"object\":\"cycle\",\"confidence\":0.856,\"parent\":{\"object\":\"Land vehicle\",\"confidence\":0.861,\"parent\":{\"object\":\"Vehicle\",\"confidence\":0.861}}}}],\"requestId\":\"f2d30e39-7a80-41ad-866f-b297da02dc56\",\"metadata\":{\"width\":460,\"height\":345,\"format\":\"Jpeg\"}}\nFin consulta Azure : D\n"
    }
   ],
   "source": [
    "# Consulta al servicio azure\n",
    "vision_base_url = \"https://workshopbcrpcomputervision.cognitiveservices.azure.com/vision/v2.0/\"\n",
    "features = \"Objects, Description\"\n",
    "language = \"en\"\n",
    "analyze_url = \"{}analyze?visualFeatures={}&language={}\".format(vision_base_url, features, language)\n",
    "subscription_key = \"4168b5554d6b442786c5e53ad83ccd52\"\n",
    "\n",
    "#jsons\n",
    "jsons = []\n",
    "\n",
    "# Recorriendo la lista de archivos en la ruta\n",
    "for i in files[:]:\n",
    "    # ruta por archivo\n",
    "    print(\"Reading {}\".format(i))\n",
    "    image = open(i,\"rb\")\n",
    "    d = image.read()\n",
    "    \n",
    "    headers = {'Content-Type': 'application/octet-stream', 'Ocp-Apim-Subscription-Key': subscription_key}\n",
    "    response = requests.post(analyze_url, headers=headers, data=d)\n",
    "    print(response.text)\n",
    "    \n",
    "    obj = json.loads(response.text)\n",
    "    jsons.append(obj)\n",
    "    image.close()\n",
    "print(\"Fin consulta Azure : D\")"
   ]
  },
  {
   "cell_type": "code",
   "execution_count": 4,
   "metadata": {},
   "outputs": [],
   "source": [
    "def rect_to_mmxy(rect):\n",
    "    x = int(rect['x'])\n",
    "    y = int(rect['y'])\n",
    "    w = int(rect['w'])\n",
    "    h = int(rect['h'])\n",
    "    \n",
    "    return (x,y),(x+w,y+h)"
   ]
  },
  {
   "cell_type": "code",
   "execution_count": 6,
   "metadata": {},
   "outputs": [
    {
     "name": "stdout",
     "output_type": "stream",
     "text": "Para: imgAnalyze//abbey.png\nPara: imgAnalyze//rand.png\nPara: imgAnalyze//termi.jpg\n"
    }
   ],
   "source": [
    "for i, ruta in enumerate(files[:]):\n",
    "    j=0\n",
    "    \n",
    "    print('Para: {}'.format(ruta))\n",
    "    image = cv2.imread(ruta)\n",
    "    \n",
    "    for line in jsons[i]['objects']:\n",
    "        # Dibujando cuadros, texto y confiabilidad por objeto detectado\n",
    "        j+=1\n",
    "        min_xy, max_xy = rect_to_mmxy(line['rectangle'])\n",
    "        cv2.rectangle(image, min_xy, max_xy,(255,0,0),2)\n",
    "        cv2.putText(image, 'obj:{} conf:{}'.format(line['object'], line['confidence']), (min_xy[0],min_xy[1]-10), cv2.FONT_HERSHEY_SIMPLEX, 0.5, (255, 0, 0), 1, cv2.LINE_AA)\n",
    "    \n",
    "    # Mostrando imagen modificada\n",
    "    cv2.imshow('image',image)\n",
    "    cv2.waitKey(0)\n",
    "    # cv2.imwrite('res{}.png'.format(i),image)\n",
    "    cv2.destroyAllWindows()"
   ]
  },
  {
   "cell_type": "code",
   "execution_count": 27,
   "metadata": {},
   "outputs": [
    {
     "name": "stdout",
     "output_type": "stream",
     "text": "Para: D:\\GyS\\proyectos\\workshopBCRP\\notebooks\\imgAnalyze\\abbey.png\nText:a group of people walking down the street conf:0.9697989268593696\nPara: D:\\GyS\\proyectos\\workshopBCRP\\notebooks\\imgAnalyze\\rand.png\nText:a man and a dog walking on a sidewalk conf:0.9246257035076508\nPara: D:\\GyS\\proyectos\\workshopBCRP\\notebooks\\imgAnalyze\\termi.jpg\nText:a man riding on the back of a motorcycle conf:0.8181732157819246\n"
    }
   ],
   "source": [
    "for i, ruta in enumerate(files_lista[:]):\n",
    "    j=0\n",
    "    print('Para: {}'.format(ruta))\n",
    "    image = cv2.imread(ruta)\n",
    "    \n",
    "    for line in jsons[i]['description']['captions']:\n",
    "        # Mostrando descripciones por imagen analizada\n",
    "        print('Text:{} conf:{}'.format(line['text'], line['confidence']))\n",
    "        j+=1\n",
    "        min_xy = (20, 20)\n",
    "        cv2.putText(image, 't:{} c:{}'.format(line['text'], line['confidence']), (min_xy[0],min_xy[1]), cv2.FONT_HERSHEY_SIMPLEX, 0.5, (255, 0, 0), 1, cv2.LINE_AA)        \n",
    "    \n",
    "    cv2.imshow('image',image)\n",
    "    cv2.waitKey(0)\n",
    "    # cv2.imwrite('res{}.png'.format(i),image)\n",
    "    cv2.destroyAllWindows()"
   ]
  }
 ]
}